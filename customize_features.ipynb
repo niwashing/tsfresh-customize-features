{
 "cells": [
  {
   "cell_type": "markdown",
   "id": "afcceed7",
   "metadata": {},
   "source": [
    "# tsfreshにおける特徴量の調整（追加・削除・独自特徴量の追加）\n",
    "時系列データに対する機械学習手法を適用する際に、sliding windowなどでデータを小区間に区切り特徴量を抽出などすると思いますが、pythonで特徴量探索を行う場合に良く利用されるライブラリの一つに**tsfresh**があります。ここでは、tsfreshについてデータから抽出する特徴量をユーザが追加・削除する方法を見ていきます。"
   ]
  },
  {
   "cell_type": "markdown",
   "id": "451bc608",
   "metadata": {},
   "source": [
    "# サンプルデータのロード\n",
    "初めに解説で利用するために、tsfreshで用意されているサンプルデータをダウンロードします。"
   ]
  },
  {
   "cell_type": "code",
   "execution_count": 1,
   "id": "c97072e8",
   "metadata": {},
   "outputs": [
    {
     "data": {
      "text/html": [
       "<div>\n",
       "<style scoped>\n",
       "    .dataframe tbody tr th:only-of-type {\n",
       "        vertical-align: middle;\n",
       "    }\n",
       "\n",
       "    .dataframe tbody tr th {\n",
       "        vertical-align: top;\n",
       "    }\n",
       "\n",
       "    .dataframe thead th {\n",
       "        text-align: right;\n",
       "    }\n",
       "</style>\n",
       "<table border=\"1\" class=\"dataframe\">\n",
       "  <thead>\n",
       "    <tr style=\"text-align: right;\">\n",
       "      <th></th>\n",
       "      <th>id</th>\n",
       "      <th>time</th>\n",
       "      <th>F_x</th>\n",
       "      <th>F_y</th>\n",
       "      <th>F_z</th>\n",
       "      <th>T_x</th>\n",
       "      <th>T_y</th>\n",
       "      <th>T_z</th>\n",
       "    </tr>\n",
       "  </thead>\n",
       "  <tbody>\n",
       "    <tr>\n",
       "      <th>0</th>\n",
       "      <td>1</td>\n",
       "      <td>0</td>\n",
       "      <td>-1</td>\n",
       "      <td>-1</td>\n",
       "      <td>63</td>\n",
       "      <td>-3</td>\n",
       "      <td>-1</td>\n",
       "      <td>0</td>\n",
       "    </tr>\n",
       "    <tr>\n",
       "      <th>1</th>\n",
       "      <td>1</td>\n",
       "      <td>1</td>\n",
       "      <td>0</td>\n",
       "      <td>0</td>\n",
       "      <td>62</td>\n",
       "      <td>-3</td>\n",
       "      <td>-1</td>\n",
       "      <td>0</td>\n",
       "    </tr>\n",
       "    <tr>\n",
       "      <th>2</th>\n",
       "      <td>1</td>\n",
       "      <td>2</td>\n",
       "      <td>-1</td>\n",
       "      <td>-1</td>\n",
       "      <td>61</td>\n",
       "      <td>-3</td>\n",
       "      <td>0</td>\n",
       "      <td>0</td>\n",
       "    </tr>\n",
       "    <tr>\n",
       "      <th>3</th>\n",
       "      <td>1</td>\n",
       "      <td>3</td>\n",
       "      <td>-1</td>\n",
       "      <td>-1</td>\n",
       "      <td>63</td>\n",
       "      <td>-2</td>\n",
       "      <td>-1</td>\n",
       "      <td>0</td>\n",
       "    </tr>\n",
       "    <tr>\n",
       "      <th>4</th>\n",
       "      <td>1</td>\n",
       "      <td>4</td>\n",
       "      <td>-1</td>\n",
       "      <td>-1</td>\n",
       "      <td>63</td>\n",
       "      <td>-3</td>\n",
       "      <td>-1</td>\n",
       "      <td>0</td>\n",
       "    </tr>\n",
       "  </tbody>\n",
       "</table>\n",
       "</div>"
      ],
      "text/plain": [
       "   id  time  F_x  F_y  F_z  T_x  T_y  T_z\n",
       "0   1     0   -1   -1   63   -3   -1    0\n",
       "1   1     1    0    0   62   -3   -1    0\n",
       "2   1     2   -1   -1   61   -3    0    0\n",
       "3   1     3   -1   -1   63   -2   -1    0\n",
       "4   1     4   -1   -1   63   -3   -1    0"
      ]
     },
     "execution_count": 1,
     "metadata": {},
     "output_type": "execute_result"
    }
   ],
   "source": [
    "from tsfresh.examples.robot_execution_failures import (\n",
    "    download_robot_execution_failures,\n",
    "    load_robot_execution_failures,\n",
    ")\n",
    "\n",
    "download_robot_execution_failures()\n",
    "timeseries, _ = load_robot_execution_failures()\n",
    "timeseries.head(5)"
   ]
  },
  {
   "cell_type": "markdown",
   "id": "cb5a5699",
   "metadata": {},
   "source": [
    "# tsfreshを使った特徴量の抽出\n",
    "まずdefaultの設定で特徴量を計算し、特徴量の数を見てみます。"
   ]
  },
  {
   "cell_type": "code",
   "execution_count": 2,
   "id": "1d1a2c59",
   "metadata": {},
   "outputs": [
    {
     "name": "stderr",
     "output_type": "stream",
     "text": [
      "Feature Extraction: 100%|██████████| 88/88 [00:01<00:00, 60.17it/s]\n"
     ]
    }
   ],
   "source": [
    "from tsfresh.feature_extraction import extract_features\n",
    "\n",
    "features = extract_features(\n",
    "    timeseries,\n",
    "    column_id=\"id\",\n",
    "    column_sort=\"time\",\n",
    ").reset_index(drop=True)"
   ]
  },
  {
   "cell_type": "code",
   "execution_count": 3,
   "id": "2e7fe25c",
   "metadata": {},
   "outputs": [
    {
     "name": "stdout",
     "output_type": "stream",
     "text": [
      "4722種類の特徴量が抽出されました。\n"
     ]
    }
   ],
   "source": [
    "print(\"{}種類の特徴量が抽出されました。\".format(len(features.columns)))"
   ]
  },
  {
   "cell_type": "code",
   "execution_count": 4,
   "id": "55b86b87",
   "metadata": {},
   "outputs": [
    {
     "name": "stdout",
     "output_type": "stream",
     "text": [
      "idごとに特徴量が計算されるため、データ長は88。idの数も88。\n"
     ]
    }
   ],
   "source": [
    "print(\n",
    "    \"idごとに特徴量が計算されるため、データ長は{}。idの数も{}。\".format(\n",
    "        len(features), len(timeseries[\"id\"].unique())\n",
    "    )\n",
    ")"
   ]
  },
  {
   "cell_type": "markdown",
   "id": "de7ac9f2",
   "metadata": {},
   "source": [
    "## プリセットされた特徴量のセットを使う\n",
    "defaultの設定ではとても多くの特徴量が抽出されるため、検定などを使用した不要な変数の削減や、PCAなどで次元を圧縮すると思います。\n",
    "対象データに関する知識・知見がある場合、不適切な特徴量はあらかじめ抽出しないなど分析者が有意に変数を追加・削除することも有効です。\n",
    "tsfreshには以下のように幾つかのパラメータのセットとその設定がカテゴリごとに用意されており、ユーザが選択的に抽出する特徴量を削減することができます。\n",
    "\n",
    "用意されているパラメータセットの設定\n",
    "- ComprehensiveFCParameters\n",
    "- EfficientFCParameters\n",
    "- IndexBasedFCParameters\n",
    "- MinimalFCParameters\n",
    "- TimeBasedFCParameters\n",
    "\n",
    "ここでは一例として`MinimalFCParameters`を使って特徴量を抽出します。`MinimalFCParameters`は合計、平均などシンプルな特徴量を集めたもので、各列に対し9個の特徴量をそれぞれ抽出します。\n",
    "`extract_features`の`default_fc_parameters`に設定を指定することでプリセットされた特徴量を抽出できます。"
   ]
  },
  {
   "cell_type": "code",
   "execution_count": 5,
   "id": "8aad5917",
   "metadata": {},
   "outputs": [
    {
     "name": "stderr",
     "output_type": "stream",
     "text": [
      "Feature Extraction: 100%|██████████| 88/88 [00:00<00:00, 768.93it/s]\n"
     ]
    }
   ],
   "source": [
    "from tsfresh.feature_extraction import (\n",
    "    MinimalFCParameters,\n",
    "    extract_features,\n",
    ")\n",
    "\n",
    "settings = MinimalFCParameters()\n",
    "\n",
    "features = extract_features(\n",
    "    timeseries,\n",
    "    column_id=\"id\",\n",
    "    column_sort=\"time\",\n",
    "    default_fc_parameters = settings,\n",
    ").reset_index(drop=True)"
   ]
  },
  {
   "cell_type": "code",
   "execution_count": 6,
   "id": "1da45f32",
   "metadata": {},
   "outputs": [
    {
     "name": "stdout",
     "output_type": "stream",
     "text": [
      "54種類の特徴量が抽出されました。\n",
      "各変数に対しの以下の特徴量が抽出されました。\n"
     ]
    },
    {
     "data": {
      "text/plain": [
       "['F_x__sum_values',\n",
       " 'F_x__median',\n",
       " 'F_x__mean',\n",
       " 'F_x__length',\n",
       " 'F_x__standard_deviation',\n",
       " 'F_x__variance',\n",
       " 'F_x__root_mean_square',\n",
       " 'F_x__maximum',\n",
       " 'F_x__minimum']"
      ]
     },
     "execution_count": 6,
     "metadata": {},
     "output_type": "execute_result"
    }
   ],
   "source": [
    "print(\"{}種類の特徴量が抽出されました。\".format(len(features.columns)))\n",
    "print(\"各変数に対しの以下の特徴量が抽出されました。\")\n",
    "[c for c in features.columns[features.columns.str.startswith('F_x')]]"
   ]
  },
  {
   "cell_type": "markdown",
   "id": "b059f937",
   "metadata": {},
   "source": [
    "`extrace_features`への設定は辞書型で定義されており、key：モジュール名、value：モジュールへの入力パラメータとなっています。これらを追加または削除することで、より細かく特徴量抽出をコントロールできます。\n",
    "\n",
    "ここで使用できる特徴量は`tsfresh.feature_extraction.feature_calculators`に定義されており、内容については[ドキュメント](https://tsfresh.readthedocs.io/en/latest/text/list_of_features.html)を見ながら、所望の特徴量を追加・削除します。"
   ]
  },
  {
   "cell_type": "code",
   "execution_count": 7,
   "id": "c07f003d",
   "metadata": {},
   "outputs": [
    {
     "name": "stdout",
     "output_type": "stream",
     "text": [
      "settingsは辞書型となっています。\n"
     ]
    },
    {
     "data": {
      "text/plain": [
       "{'sum_values': None,\n",
       " 'median': None,\n",
       " 'mean': None,\n",
       " 'length': None,\n",
       " 'standard_deviation': None,\n",
       " 'variance': None,\n",
       " 'root_mean_square': None,\n",
       " 'maximum': None,\n",
       " 'minimum': None}"
      ]
     },
     "execution_count": 7,
     "metadata": {},
     "output_type": "execute_result"
    }
   ],
   "source": [
    "settings = MinimalFCParameters()\n",
    "print('settingsは辞書型となっています。')\n",
    "settings"
   ]
  },
  {
   "cell_type": "code",
   "execution_count": 8,
   "id": "38e0bd7f",
   "metadata": {},
   "outputs": [
    {
     "data": {
      "text/plain": [
       "{'length': None,\n",
       " 'standard_deviation': None,\n",
       " 'variance': None,\n",
       " 'root_mean_square': None,\n",
       " 'maximum': None,\n",
       " 'minimum': None,\n",
       " 'ar_coefficient': [{'coeff': 0, 'k': 4},\n",
       "  {'coeff': 1, 'k': 4},\n",
       "  {'coeff': 2, 'k': 4},\n",
       "  {'coeff': 3, 'k': 4}]}"
      ]
     },
     "execution_count": 8,
     "metadata": {},
     "output_type": "execute_result"
    }
   ],
   "source": [
    "# 不要な特徴量を削除\n",
    "del settings['sum_values']\n",
    "del settings['median']\n",
    "del settings['mean']\n",
    "\n",
    "# 必要な特徴量を追加（key：モジュール名、value：パラメータ（リストで複数渡すことものできる））\n",
    "settings[\"ar_coefficient\"] = [\n",
    "    {\"coeff\": 0, \"k\": 4},\n",
    "    {\"coeff\": 1, \"k\": 4},\n",
    "    {\"coeff\": 2, \"k\": 4},\n",
    "    {\"coeff\": 3, \"k\": 4},\n",
    "]\n",
    "settings"
   ]
  },
  {
   "cell_type": "code",
   "execution_count": 9,
   "id": "88432f61",
   "metadata": {},
   "outputs": [
    {
     "name": "stderr",
     "output_type": "stream",
     "text": [
      "Feature Extraction: 100%|██████████| 88/88 [00:00<00:00, 701.41it/s]\n"
     ]
    }
   ],
   "source": [
    "features = extract_features(\n",
    "    timeseries,\n",
    "    column_id=\"id\",\n",
    "    column_sort=\"time\",\n",
    "    default_fc_parameters = settings,\n",
    ").reset_index(drop=True)"
   ]
  },
  {
   "cell_type": "code",
   "execution_count": 10,
   "id": "47cac4c3",
   "metadata": {},
   "outputs": [
    {
     "name": "stdout",
     "output_type": "stream",
     "text": [
      "60種類の特徴量が抽出されました。\n",
      "各変数に対しの以下の特徴量が抽出されました。\n"
     ]
    },
    {
     "data": {
      "text/plain": [
       "['F_x__length',\n",
       " 'F_x__standard_deviation',\n",
       " 'F_x__variance',\n",
       " 'F_x__root_mean_square',\n",
       " 'F_x__maximum',\n",
       " 'F_x__minimum',\n",
       " 'F_x__ar_coefficient__coeff_0__k_4',\n",
       " 'F_x__ar_coefficient__coeff_1__k_4',\n",
       " 'F_x__ar_coefficient__coeff_2__k_4',\n",
       " 'F_x__ar_coefficient__coeff_3__k_4']"
      ]
     },
     "execution_count": 10,
     "metadata": {},
     "output_type": "execute_result"
    }
   ],
   "source": [
    "print(\"{}種類の特徴量が抽出されました。\".format(len(features.columns)))\n",
    "print(\"各変数に対しの以下の特徴量が抽出されました。\")\n",
    "[c for c in features.columns[features.columns.str.startswith('F_x')]]"
   ]
  },
  {
   "cell_type": "markdown",
   "id": "ff68fd91",
   "metadata": {},
   "source": [
    "# オリジナル特徴量の追加\n",
    "さらにtsfreshでは、あらかじめ用意された特徴量だけでなく自分で特徴量を実装し追加することができます。tsfreshを使用しなくても個別に特徴量を計算し追加することもできますが、tsfreshの枠組みに乗せることで例えば以下のような利点が得られます。\n",
    "- 変数ごとに特徴量を計算してくれる（名前をつけてくれる）\n",
    "- 検定で特徴量が削減できる\n",
    "\n",
    "独自特徴量は主に以下の3ステップで追加できます。\n",
    "1. 特徴量を計算する関数の作成\n",
    "1. `tsfresh.feature_extraction.feature_calculators`に属性を追加\n",
    "1. 設定を`extract_features`に渡して特徴量を追加"
   ]
  },
  {
   "cell_type": "markdown",
   "id": "5c24eef4",
   "metadata": {},
   "source": [
    "## 特徴量を計算する関数の作成\n",
    "tsfreshにオリジナルの特徴量を追加するには、デコレータ（`@set_property`）をつけた関数を作ります。デコレータのパラメータは、単一の特徴量を返すか、複数の特徴量を返すかで以下のように異なります。\n",
    "- 単一特徴量を返す場合：@set_property(\"fctype\", \"simple\")\n",
    "- 複数有徳跳梁を返す場合：@set_property(\"fctype\", \"combiner\")\n",
    "\n",
    "ここでは、単一特徴量を返す場合の例として、最大値と最小値の差を特徴量として追加してみようと思いますので、以下のように関数を定義しました。"
   ]
  },
  {
   "cell_type": "code",
   "execution_count": 11,
   "id": "d61a0d16",
   "metadata": {},
   "outputs": [],
   "source": [
    "from tsfresh.feature_extraction.feature_calculators import set_property\n",
    "\n",
    "@set_property(\"fctype\", \"simple\")\n",
    "def amplitude(x):\n",
    "    # 最大値、最小値を返す\n",
    "    return max(x) - min(x)"
   ]
  },
  {
   "cell_type": "markdown",
   "id": "e5f83375",
   "metadata": {},
   "source": [
    "## `tsfresh.feature_extraction.feature_calculators`に属性を追加\n",
    "tsfreshの中で特徴量計算モジュールは`feature_calculators`の中で定義されているため、以下のように新しく作った関数も`feature_calculators`に追加する必要があります。"
   ]
  },
  {
   "cell_type": "code",
   "execution_count": 12,
   "id": "d08dd70d",
   "metadata": {},
   "outputs": [],
   "source": [
    "from tsfresh.feature_extraction import feature_calculators\n",
    "\n",
    "setattr(feature_calculators, amplitude.__name__, amplitude)"
   ]
  },
  {
   "cell_type": "markdown",
   "id": "45f9159c",
   "metadata": {},
   "source": [
    "## 設定を`extract_features`に渡して特徴量を追加\n",
    "`default_fc_parameters`に定義した関数の名前を追加した辞書型変数を渡し、特徴量を抽出します。"
   ]
  },
  {
   "cell_type": "code",
   "execution_count": 13,
   "id": "642a0e12",
   "metadata": {},
   "outputs": [
    {
     "name": "stderr",
     "output_type": "stream",
     "text": [
      "Feature Extraction: 100%|██████████| 88/88 [00:00<00:00, 823.76it/s]\n"
     ]
    }
   ],
   "source": [
    "# 定義した関数名の辞書型変数を用意する。入力パラメータがない場合はvalueはNone\n",
    "settings = {'amplitude': None}\n",
    "\n",
    "# 特徴量を抽出する\n",
    "features = extract_features(\n",
    "    timeseries,\n",
    "    column_id=\"id\",\n",
    "    column_sort=\"time\",\n",
    "    default_fc_parameters = settings,\n",
    ").reset_index(drop=True)"
   ]
  },
  {
   "cell_type": "code",
   "execution_count": 14,
   "id": "cd42002c",
   "metadata": {},
   "outputs": [
    {
     "name": "stdout",
     "output_type": "stream",
     "text": [
      "以下の特徴量が抽出されました。\n"
     ]
    },
    {
     "data": {
      "text/plain": [
       "['F_x__amplitude',\n",
       " 'F_y__amplitude',\n",
       " 'F_z__amplitude',\n",
       " 'T_x__amplitude',\n",
       " 'T_y__amplitude',\n",
       " 'T_z__amplitude']"
      ]
     },
     "execution_count": 14,
     "metadata": {},
     "output_type": "execute_result"
    }
   ],
   "source": [
    "print(\"以下の特徴量が抽出されました。\")\n",
    "[c for c in features.columns]"
   ]
  },
  {
   "cell_type": "markdown",
   "id": "a9c2c416",
   "metadata": {},
   "source": [
    "# まとめ\n",
    "ここでは**tsfresh**を使った特徴量抽出について、抽出する特徴量を追加・削除さらに自分で定義した特徴量を追加する方法を見てきました。**tsfresh**の枠組みに載せることにより、色々な機能が使えたり、チームで活用できると思います。ぜひお試しください！"
   ]
  },
  {
   "cell_type": "code",
   "execution_count": null,
   "id": "e171f930",
   "metadata": {},
   "outputs": [],
   "source": []
  }
 ],
 "metadata": {
  "kernelspec": {
   "display_name": "Python 3 (ipykernel)",
   "language": "python",
   "name": "python3"
  },
  "language_info": {
   "codemirror_mode": {
    "name": "ipython",
    "version": 3
   },
   "file_extension": ".py",
   "mimetype": "text/x-python",
   "name": "python",
   "nbconvert_exporter": "python",
   "pygments_lexer": "ipython3",
   "version": "3.8.10"
  }
 },
 "nbformat": 4,
 "nbformat_minor": 5
}
